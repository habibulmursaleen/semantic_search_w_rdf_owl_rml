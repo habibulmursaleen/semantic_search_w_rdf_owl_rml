{
 "cells": [
  {
   "cell_type": "code",
   "execution_count": null,
   "id": "d70f096b",
   "metadata": {},
   "outputs": [
    {
     "name": "stdout",
     "output_type": "stream",
     "text": [
      "Collecting spacy\n",
      "  Using cached spacy-3.5.0-cp311-cp311-macosx_10_9_x86_64.whl (6.7 MB)\n",
      "Collecting scikit-learn\n",
      "  Using cached scikit_learn-1.2.1-cp311-cp311-macosx_10_9_x86_64.whl (9.0 MB)\n",
      "Collecting textract\n",
      "  Using cached textract-1.6.5-py3-none-any.whl (23 kB)\n",
      "Requirement already satisfied: spacy-legacy<3.1.0,>=3.0.11 in /Library/Frameworks/Python.framework/Versions/3.11/lib/python3.11/site-packages (from spacy) (3.0.12)\n",
      "Requirement already satisfied: spacy-loggers<2.0.0,>=1.0.0 in /Library/Frameworks/Python.framework/Versions/3.11/lib/python3.11/site-packages (from spacy) (1.0.4)\n",
      "Requirement already satisfied: murmurhash<1.1.0,>=0.28.0 in /Library/Frameworks/Python.framework/Versions/3.11/lib/python3.11/site-packages (from spacy) (1.0.9)\n",
      "Requirement already satisfied: cymem<2.1.0,>=2.0.2 in /Library/Frameworks/Python.framework/Versions/3.11/lib/python3.11/site-packages (from spacy) (2.0.7)\n",
      "Collecting preshed<3.1.0,>=3.0.2\n",
      "  Using cached preshed-3.0.8-cp311-cp311-macosx_10_9_x86_64.whl (103 kB)\n",
      "Collecting thinc<8.2.0,>=8.1.0\n",
      "  Using cached thinc-8.1.7-cp311-cp311-macosx_10_9_x86_64.whl (763 kB)\n",
      "Requirement already satisfied: wasabi<1.2.0,>=0.9.1 in /Library/Frameworks/Python.framework/Versions/3.11/lib/python3.11/site-packages (from spacy) (1.1.1)\n",
      "Collecting srsly<3.0.0,>=2.4.3\n",
      "  Using cached srsly-2.4.5-cp311-cp311-macosx_10_9_x86_64.whl (488 kB)\n",
      "Collecting catalogue<2.1.0,>=2.0.6\n",
      "  Using cached catalogue-2.0.8-py3-none-any.whl (17 kB)\n",
      "Collecting typer<0.8.0,>=0.3.0\n",
      "  Using cached typer-0.7.0-py3-none-any.whl (38 kB)\n",
      "Collecting pathy>=0.10.0\n",
      "  Using cached pathy-0.10.1-py3-none-any.whl (48 kB)\n",
      "Requirement already satisfied: smart-open<7.0.0,>=5.2.1 in /Library/Frameworks/Python.framework/Versions/3.11/lib/python3.11/site-packages (from spacy) (6.3.0)\n",
      "Requirement already satisfied: tqdm<5.0.0,>=4.38.0 in /Library/Frameworks/Python.framework/Versions/3.11/lib/python3.11/site-packages (from spacy) (4.64.1)\n",
      "Requirement already satisfied: numpy>=1.15.0 in /Library/Frameworks/Python.framework/Versions/3.11/lib/python3.11/site-packages (from spacy) (1.24.2)\n",
      "Requirement already satisfied: requests<3.0.0,>=2.13.0 in /Library/Frameworks/Python.framework/Versions/3.11/lib/python3.11/site-packages (from spacy) (2.28.2)\n",
      "Collecting pydantic!=1.8,!=1.8.1,<1.11.0,>=1.7.4\n",
      "  Using cached pydantic-1.10.5-cp311-cp311-macosx_10_9_x86_64.whl (2.8 MB)\n",
      "Requirement already satisfied: jinja2 in /Library/Frameworks/Python.framework/Versions/3.11/lib/python3.11/site-packages (from spacy) (3.1.2)\n",
      "Requirement already satisfied: setuptools in /Library/Frameworks/Python.framework/Versions/3.11/lib/python3.11/site-packages (from spacy) (65.5.0)\n",
      "Requirement already satisfied: packaging>=20.0 in /Library/Frameworks/Python.framework/Versions/3.11/lib/python3.11/site-packages (from spacy) (23.0)\n",
      "Collecting langcodes<4.0.0,>=3.2.0\n",
      "  Using cached langcodes-3.3.0-py3-none-any.whl (181 kB)\n",
      "Collecting scipy>=1.3.2\n",
      "  Using cached scipy-1.10.1-cp311-cp311-macosx_10_9_x86_64.whl (35.0 MB)\n",
      "Collecting joblib>=1.1.1\n",
      "  Using cached joblib-1.2.0-py3-none-any.whl (297 kB)\n",
      "Requirement already satisfied: threadpoolctl>=2.0.0 in /Library/Frameworks/Python.framework/Versions/3.11/lib/python3.11/site-packages (from scikit-learn) (3.1.0)\n",
      "Requirement already satisfied: argcomplete~=1.10.0 in /Library/Frameworks/Python.framework/Versions/3.11/lib/python3.11/site-packages (from textract) (1.10.3)\n",
      "Collecting beautifulsoup4~=4.8.0\n",
      "  Using cached beautifulsoup4-4.8.2-py3-none-any.whl (106 kB)\n",
      "Requirement already satisfied: chardet==3.* in /Library/Frameworks/Python.framework/Versions/3.11/lib/python3.11/site-packages (from textract) (3.0.4)\n",
      "Requirement already satisfied: docx2txt~=0.8 in /Library/Frameworks/Python.framework/Versions/3.11/lib/python3.11/site-packages (from textract) (0.8)\n",
      "Collecting extract-msg<=0.29.*\n",
      "  Using cached extract_msg-0.28.7-py2.py3-none-any.whl (69 kB)\n",
      "Collecting pdfminer.six==20191110\n",
      "  Using cached pdfminer.six-20191110-py2.py3-none-any.whl (5.6 MB)\n",
      "Collecting python-pptx~=0.6.18\n",
      "  Using cached python-pptx-0.6.21.tar.gz (10.1 MB)\n",
      "  Preparing metadata (setup.py) ... \u001b[?25ldone\n",
      "\u001b[?25hRequirement already satisfied: six~=1.12.0 in /Library/Frameworks/Python.framework/Versions/3.11/lib/python3.11/site-packages (from textract) (1.12.0)\n",
      "Requirement already satisfied: SpeechRecognition~=3.8.1 in /Library/Frameworks/Python.framework/Versions/3.11/lib/python3.11/site-packages (from textract) (3.8.1)\n",
      "Requirement already satisfied: xlrd~=1.2.0 in /Library/Frameworks/Python.framework/Versions/3.11/lib/python3.11/site-packages (from textract) (1.2.0)\n",
      "Requirement already satisfied: pycryptodome in /Library/Frameworks/Python.framework/Versions/3.11/lib/python3.11/site-packages (from pdfminer.six==20191110->textract) (3.17)\n",
      "Requirement already satisfied: sortedcontainers in /Library/Frameworks/Python.framework/Versions/3.11/lib/python3.11/site-packages (from pdfminer.six==20191110->textract) (2.4.0)\n",
      "Requirement already satisfied: soupsieve>=1.2 in /Library/Frameworks/Python.framework/Versions/3.11/lib/python3.11/site-packages (from beautifulsoup4~=4.8.0->textract) (2.4)\n",
      "Collecting imapclient==2.1.0\n",
      "  Using cached IMAPClient-2.1.0-py2.py3-none-any.whl (73 kB)\n",
      "Requirement already satisfied: olefile>=0.46 in /Library/Frameworks/Python.framework/Versions/3.11/lib/python3.11/site-packages (from extract-msg<=0.29.*->textract) (0.46)\n",
      "Collecting tzlocal>=2.1\n",
      "  Using cached tzlocal-4.2-py3-none-any.whl (19 kB)\n",
      "Requirement already satisfied: compressed-rtf>=1.0.6 in /Library/Frameworks/Python.framework/Versions/3.11/lib/python3.11/site-packages (from extract-msg<=0.29.*->textract) (1.0.6)\n",
      "Requirement already satisfied: ebcdic>=1.1.1 in /Library/Frameworks/Python.framework/Versions/3.11/lib/python3.11/site-packages (from extract-msg<=0.29.*->textract) (1.1.1)\n",
      "Requirement already satisfied: typing-extensions>=4.2.0 in /Library/Frameworks/Python.framework/Versions/3.11/lib/python3.11/site-packages (from pydantic!=1.8,!=1.8.1,<1.11.0,>=1.7.4->spacy) (4.5.0)\n",
      "Collecting lxml>=3.1.0\n",
      "  Using cached lxml-4.9.2.tar.gz (3.7 MB)\n",
      "  Preparing metadata (setup.py) ... \u001b[?25ldone\n",
      "\u001b[?25hRequirement already satisfied: Pillow>=3.3.2 in /Library/Frameworks/Python.framework/Versions/3.11/lib/python3.11/site-packages (from python-pptx~=0.6.18->textract) (9.4.0)\n",
      "Requirement already satisfied: XlsxWriter>=0.5.7 in /Library/Frameworks/Python.framework/Versions/3.11/lib/python3.11/site-packages (from python-pptx~=0.6.18->textract) (3.0.8)\n",
      "Requirement already satisfied: charset-normalizer<4,>=2 in /Library/Frameworks/Python.framework/Versions/3.11/lib/python3.11/site-packages (from requests<3.0.0,>=2.13.0->spacy) (3.0.1)\n",
      "Requirement already satisfied: idna<4,>=2.5 in /Library/Frameworks/Python.framework/Versions/3.11/lib/python3.11/site-packages (from requests<3.0.0,>=2.13.0->spacy) (3.4)\n",
      "Requirement already satisfied: urllib3<1.27,>=1.21.1 in /Library/Frameworks/Python.framework/Versions/3.11/lib/python3.11/site-packages (from requests<3.0.0,>=2.13.0->spacy) (1.26.14)\n",
      "Requirement already satisfied: certifi>=2017.4.17 in /Library/Frameworks/Python.framework/Versions/3.11/lib/python3.11/site-packages (from requests<3.0.0,>=2.13.0->spacy) (2022.12.7)\n",
      "Collecting blis<0.8.0,>=0.7.8\n",
      "  Using cached blis-0.7.9-cp311-cp311-macosx_10_9_x86_64.whl (6.1 MB)\n",
      "Collecting confection<1.0.0,>=0.0.1\n",
      "  Using cached confection-0.0.4-py3-none-any.whl (32 kB)\n",
      "Collecting click<9.0.0,>=7.1.1\n",
      "  Using cached click-8.1.3-py3-none-any.whl (96 kB)\n",
      "Requirement already satisfied: MarkupSafe>=2.0 in /Library/Frameworks/Python.framework/Versions/3.11/lib/python3.11/site-packages (from jinja2->spacy) (2.1.2)\n",
      "Collecting pytz-deprecation-shim\n",
      "  Using cached pytz_deprecation_shim-0.1.0.post0-py2.py3-none-any.whl (15 kB)\n",
      "Requirement already satisfied: tzdata in /Library/Frameworks/Python.framework/Versions/3.11/lib/python3.11/site-packages (from pytz-deprecation-shim->tzlocal>=2.1->extract-msg<=0.29.*->textract) (2022.7)\n",
      "Installing collected packages: scipy, pytz-deprecation-shim, pydantic, preshed, pdfminer.six, lxml, langcodes, joblib, imapclient, click, catalogue, blis, beautifulsoup4, tzlocal, typer, srsly, scikit-learn, python-pptx, pathy, extract-msg, confection, thinc, textract, spacy\n"
     ]
    },
    {
     "name": "stdout",
     "output_type": "stream",
     "text": [
      "\u001b[33m  DEPRECATION: lxml is being installed using the legacy 'setup.py install' method, because it does not have a 'pyproject.toml' and the 'wheel' package is not installed. pip 23.1 will enforce this behaviour change. A possible replacement is to enable the '--use-pep517' option. Discussion can be found at https://github.com/pypa/pip/issues/8559\u001b[0m\u001b[33m\n",
      "\u001b[0m  Running setup.py install for lxml ... \u001b[?25l-"
     ]
    }
   ],
   "source": [
    "!pip install spacy scikit-learn textract\n"
   ]
  },
  {
   "cell_type": "code",
   "execution_count": null,
   "id": "bef474a4",
   "metadata": {},
   "outputs": [],
   "source": [
    "import os\n",
    "import spacy\n",
    "from sklearn.feature_extraction.text import TfidfVectorizer\n",
    "from sklearn.metrics.pairwise import cosine_similarity\n",
    "import pandas as pd\n",
    "import textract\n",
    "\n",
    "# Load a spaCy model for entity extraction\n",
    "nlp = spacy.load(\"en_core_web_sm\")\n"
   ]
  },
  {
   "cell_type": "code",
   "execution_count": null,
   "id": "21cf4cdf",
   "metadata": {},
   "outputs": [],
   "source": [
    "def extract_entities(text):\n",
    "    doc = spacy.tokens.Doc(nlp.vocab)\n",
    "    chunks = [text[i:i+100000] for i in range(0, len(text), 100000)]\n",
    "    for chunk in chunks:\n",
    "        doc = nlp(chunk)\n",
    "    entities = [ent.text for ent in doc.ents]\n",
    "    return entities\n"
   ]
  },
  {
   "cell_type": "code",
   "execution_count": null,
   "id": "684d5af0",
   "metadata": {},
   "outputs": [],
   "source": [
    "def load_data(directory):\n",
    "    # Initialize lists to store file paths and contents\n",
    "    file_paths = []\n",
    "    file_contents = []\n",
    "\n",
    "    # Loop through all files in the directory\n",
    "    for file_name in os.listdir(directory):\n",
    "        file_path = os.path.join(directory, file_name)\n",
    "        # Check if file is Excel or CSV\n",
    "        if file_name.endswith('.xlsx') or file_name.endswith('.csv'):\n",
    "            # Load Excel or CSV file as pandas dataframe\n",
    "            df = pd.read_excel(file_path) if file_name.endswith('.xlsx') else pd.read_csv(file_path)\n",
    "            # Convert dataframe to text\n",
    "            text = df.to_string()\n",
    "            file_paths.append(file_path)\n",
    "            file_contents.append(text)\n",
    "        # Check if file is DOCX\n",
    "        elif file_name.endswith('.docx'):\n",
    "            # Load DOCX file using textract\n",
    "            text = textract.process(file_path).decode('utf-8')\n",
    "            file_paths.append(file_path)\n",
    "            file_contents.append(text)\n",
    "        # Check if file is PDF\n",
    "        elif file_name.endswith('.pdf'):\n",
    "            # Load PDF file using textract\n",
    "            text = textract.process(file_path).decode('utf-8')\n",
    "            file_paths.append(file_path)\n",
    "            file_contents.append(text)\n",
    "\n",
    "    return file_paths, file_contents"
   ]
  },
  {
   "cell_type": "code",
   "execution_count": null,
   "id": "7678174d",
   "metadata": {},
   "outputs": [],
   "source": [
    "def semantic_search(query, file_contents, top_n=5):\n",
    "    # Extract entities from query\n",
    "    query_entities = extract_entities(query)\n",
    "\n",
    "    # Define a TfidfVectorizer with a custom tokenizer that extracts entities\n",
    "    vectorizer = TfidfVectorizer(tokenizer=extract_entities)\n",
    "\n",
    "    # Vectorize the file contents\n",
    "    vectorized_contents = vectorizer.fit_transform(file_contents)\n",
    "\n",
    "    # Vectorize the query\n",
    "    query_vector = vectorizer.transform([query])\n",
    "\n",
    "    # Compute cosine similarities between the query and file contents\n",
    "    similarities = cosine_similarity(query_vector, vectorized_contents).flatten()\n",
    "\n",
    "    # Get indices of the top matching files\n",
    "    top_indices = similarities.argsort()[::-1][:top_n]\n",
    "\n",
    "    # Return the top matching data and their similarities\n",
    "    top_matches = []\n",
    "    for i in top_indices:\n",
    "        top_matches.append((file_contents[i], similarities[i]))\n",
    "    return top_matches\n"
   ]
  },
  {
   "cell_type": "code",
   "execution_count": null,
   "id": "94779a23",
   "metadata": {},
   "outputs": [],
   "source": [
    "data_dir = \"/Users/smhabibulmursaleenchowdhury/Desktop/Masters Project/Data\""
   ]
  },
  {
   "cell_type": "code",
   "execution_count": null,
   "id": "a006269f",
   "metadata": {},
   "outputs": [],
   "source": [
    "# Load the data\n",
    "file_paths, file_contents = load_data(data_dir)\n",
    "\n",
    "# Define a query\n",
    "query = \"Intel Xeon E5-2699 V3 (OEM/Tray)?\"\n",
    "\n"
   ]
  },
  {
   "cell_type": "code",
   "execution_count": null,
   "id": "92f6fe30",
   "metadata": {},
   "outputs": [],
   "source": [
    "results = semantic_search(query, file_contents)"
   ]
  },
  {
   "cell_type": "code",
   "execution_count": null,
   "id": "c9fdbb99",
   "metadata": {},
   "outputs": [],
   "source": [
    "for data, similarity in results:\n",
    "    print(f\"Data: {data}\\nSimilarity: {similarity}\\n\")"
   ]
  },
  {
   "cell_type": "code",
   "execution_count": null,
   "id": "b6129713",
   "metadata": {},
   "outputs": [],
   "source": []
  }
 ],
 "metadata": {
  "kernelspec": {
   "display_name": "Python 3 (ipykernel)",
   "language": "python",
   "name": "python3"
  },
  "language_info": {
   "codemirror_mode": {
    "name": "ipython",
    "version": 3
   },
   "file_extension": ".py",
   "mimetype": "text/x-python",
   "name": "python",
   "nbconvert_exporter": "python",
   "pygments_lexer": "ipython3",
   "version": "3.11.2"
  }
 },
 "nbformat": 4,
 "nbformat_minor": 5
}
